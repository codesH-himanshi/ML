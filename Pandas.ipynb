{
  "nbformat": 4,
  "nbformat_minor": 0,
  "metadata": {
    "colab": {
      "provenance": [],
      "authorship_tag": "ABX9TyOKNVJB/cYgLaEYLE59uIRx",
      "include_colab_link": true
    },
    "kernelspec": {
      "name": "python3",
      "display_name": "Python 3"
    },
    "language_info": {
      "name": "python"
    }
  },
  "cells": [
    {
      "cell_type": "markdown",
      "metadata": {
        "id": "view-in-github",
        "colab_type": "text"
      },
      "source": [
        "<a href=\"https://colab.research.google.com/github/codesH-himanshi/ML/blob/main/Pandas.ipynb\" target=\"_parent\"><img src=\"https://colab.research.google.com/assets/colab-badge.svg\" alt=\"Open In Colab\"/></a>"
      ]
    },
    {
      "cell_type": "code",
      "execution_count": 1,
      "metadata": {
        "id": "b8ALHX7CpmpH"
      },
      "outputs": [],
      "source": [
        "import pandas as pd"
      ]
    },
    {
      "cell_type": "code",
      "source": [
        "liver = pd.read_csv(\"indian_liver_patient.csv\")\n",
        "print(\"Dimension of the dataset is:\", liver.shape)\n",
        "print(\"Size of the dataset is:\",liver.size)"
      ],
      "metadata": {
        "colab": {
          "base_uri": "https://localhost:8080/"
        },
        "id": "KErCy-CrrMhx",
        "outputId": "46f6f413-e09d-4b45-8d25-07d78fff039f"
      },
      "execution_count": 4,
      "outputs": [
        {
          "output_type": "stream",
          "name": "stdout",
          "text": [
            "Dimension of the dataset is: (583, 11)\n",
            "Size of the dataset is: 6413\n"
          ]
        }
      ]
    },
    {
      "cell_type": "code",
      "source": [
        "print(\"Columns in the dataset are:\\n\", liver.keys())\n",
        "print(\"Columns in the dataset are:\\n\", liver.columns)"
      ],
      "metadata": {
        "colab": {
          "base_uri": "https://localhost:8080/"
        },
        "id": "Z_MPM86UtPLA",
        "outputId": "2f30761f-0edd-4e42-c8b0-4ff92c7a7c83"
      },
      "execution_count": 10,
      "outputs": [
        {
          "output_type": "stream",
          "name": "stdout",
          "text": [
            "Columns in the dataset are:\n",
            " Index(['Age', 'Gender', 'Total_Bilirubin', 'Direct_Bilirubin',\n",
            "       'Alkaline_Phosphotase', 'Alamine_Aminotransferase',\n",
            "       'Aspartate_Aminotransferase', 'Total_Protiens', 'Albumin',\n",
            "       'Albumin_and_Globulin_Ratio', 'Dataset'],\n",
            "      dtype='object')\n",
            "Columns in the dataset are:\n",
            " Index(['Age', 'Gender', 'Total_Bilirubin', 'Direct_Bilirubin',\n",
            "       'Alkaline_Phosphotase', 'Alamine_Aminotransferase',\n",
            "       'Aspartate_Aminotransferase', 'Total_Protiens', 'Albumin',\n",
            "       'Albumin_and_Globulin_Ratio', 'Dataset'],\n",
            "      dtype='object')\n"
          ]
        }
      ]
    },
    {
      "cell_type": "code",
      "source": [
        "print(\"Information of the dataset is:\\n\", liver.info())"
      ],
      "metadata": {
        "colab": {
          "base_uri": "https://localhost:8080/"
        },
        "id": "6T0WTXivtZ5D",
        "outputId": "ebe6dca0-d80b-4901-cf11-aef8ad8d6e57"
      },
      "execution_count": 11,
      "outputs": [
        {
          "output_type": "stream",
          "name": "stdout",
          "text": [
            "<class 'pandas.core.frame.DataFrame'>\n",
            "RangeIndex: 583 entries, 0 to 582\n",
            "Data columns (total 11 columns):\n",
            " #   Column                      Non-Null Count  Dtype  \n",
            "---  ------                      --------------  -----  \n",
            " 0   Age                         583 non-null    int64  \n",
            " 1   Gender                      583 non-null    object \n",
            " 2   Total_Bilirubin             583 non-null    float64\n",
            " 3   Direct_Bilirubin            583 non-null    float64\n",
            " 4   Alkaline_Phosphotase        583 non-null    int64  \n",
            " 5   Alamine_Aminotransferase    583 non-null    int64  \n",
            " 6   Aspartate_Aminotransferase  583 non-null    int64  \n",
            " 7   Total_Protiens              583 non-null    float64\n",
            " 8   Albumin                     583 non-null    float64\n",
            " 9   Albumin_and_Globulin_Ratio  579 non-null    float64\n",
            " 10  Dataset                     583 non-null    int64  \n",
            "dtypes: float64(5), int64(5), object(1)\n",
            "memory usage: 50.2+ KB\n",
            "Information of the dataset is:\n",
            " None\n"
          ]
        }
      ]
    },
    {
      "cell_type": "code",
      "source": [
        "print(\"Details of the dataset is:\\n\", liver.describe)"
      ],
      "metadata": {
        "colab": {
          "base_uri": "https://localhost:8080/"
        },
        "id": "cxE05wB9tF4O",
        "outputId": "f0f6b483-c10e-4174-f632-1c3745aec567"
      },
      "execution_count": 13,
      "outputs": [
        {
          "output_type": "stream",
          "name": "stdout",
          "text": [
            "Details of the dataset is:\n",
            " <bound method NDFrame.describe of      Age  Gender  Total_Bilirubin  Direct_Bilirubin  Alkaline_Phosphotase  \\\n",
            "0     65  Female              0.7               0.1                   187   \n",
            "1     62    Male             10.9               5.5                   699   \n",
            "2     62    Male              7.3               4.1                   490   \n",
            "3     58    Male              1.0               0.4                   182   \n",
            "4     72    Male              3.9               2.0                   195   \n",
            "..   ...     ...              ...               ...                   ...   \n",
            "578   60    Male              0.5               0.1                   500   \n",
            "579   40    Male              0.6               0.1                    98   \n",
            "580   52    Male              0.8               0.2                   245   \n",
            "581   31    Male              1.3               0.5                   184   \n",
            "582   38    Male              1.0               0.3                   216   \n",
            "\n",
            "     Alamine_Aminotransferase  Aspartate_Aminotransferase  Total_Protiens  \\\n",
            "0                          16                          18             6.8   \n",
            "1                          64                         100             7.5   \n",
            "2                          60                          68             7.0   \n",
            "3                          14                          20             6.8   \n",
            "4                          27                          59             7.3   \n",
            "..                        ...                         ...             ...   \n",
            "578                        20                          34             5.9   \n",
            "579                        35                          31             6.0   \n",
            "580                        48                          49             6.4   \n",
            "581                        29                          32             6.8   \n",
            "582                        21                          24             7.3   \n",
            "\n",
            "     Albumin  Albumin_and_Globulin_Ratio  Dataset  \n",
            "0        3.3                        0.90        1  \n",
            "1        3.2                        0.74        1  \n",
            "2        3.3                        0.89        1  \n",
            "3        3.4                        1.00        1  \n",
            "4        2.4                        0.40        1  \n",
            "..       ...                         ...      ...  \n",
            "578      1.6                        0.37        2  \n",
            "579      3.2                        1.10        1  \n",
            "580      3.2                        1.00        1  \n",
            "581      3.4                        1.00        1  \n",
            "582      4.4                        1.50        2  \n",
            "\n",
            "[583 rows x 11 columns]>\n"
          ]
        }
      ]
    },
    {
      "cell_type": "code",
      "source": [
        "print(\"Description of the dataset is:\\n\", liver.describe())"
      ],
      "metadata": {
        "colab": {
          "base_uri": "https://localhost:8080/"
        },
        "id": "1YlyqhR5twqE",
        "outputId": "79bac1b4-3832-42f9-91f7-d143bbbbc613"
      },
      "execution_count": 12,
      "outputs": [
        {
          "output_type": "stream",
          "name": "stdout",
          "text": [
            "Description of the dataset is:\n",
            "               Age  Total_Bilirubin  Direct_Bilirubin  Alkaline_Phosphotase  \\\n",
            "count  583.000000       583.000000        583.000000            583.000000   \n",
            "mean    44.746141         3.298799          1.486106            290.576329   \n",
            "std     16.189833         6.209522          2.808498            242.937989   \n",
            "min      4.000000         0.400000          0.100000             63.000000   \n",
            "25%     33.000000         0.800000          0.200000            175.500000   \n",
            "50%     45.000000         1.000000          0.300000            208.000000   \n",
            "75%     58.000000         2.600000          1.300000            298.000000   \n",
            "max     90.000000        75.000000         19.700000           2110.000000   \n",
            "\n",
            "       Alamine_Aminotransferase  Aspartate_Aminotransferase  Total_Protiens  \\\n",
            "count                583.000000                  583.000000      583.000000   \n",
            "mean                  80.713551                  109.910806        6.483190   \n",
            "std                  182.620356                  288.918529        1.085451   \n",
            "min                   10.000000                   10.000000        2.700000   \n",
            "25%                   23.000000                   25.000000        5.800000   \n",
            "50%                   35.000000                   42.000000        6.600000   \n",
            "75%                   60.500000                   87.000000        7.200000   \n",
            "max                 2000.000000                 4929.000000        9.600000   \n",
            "\n",
            "          Albumin  Albumin_and_Globulin_Ratio     Dataset  \n",
            "count  583.000000                  579.000000  583.000000  \n",
            "mean     3.141852                    0.947064    1.286449  \n",
            "std      0.795519                    0.319592    0.452490  \n",
            "min      0.900000                    0.300000    1.000000  \n",
            "25%      2.600000                    0.700000    1.000000  \n",
            "50%      3.100000                    0.930000    1.000000  \n",
            "75%      3.800000                    1.100000    2.000000  \n",
            "max      5.500000                    2.800000    2.000000  \n"
          ]
        }
      ]
    },
    {
      "cell_type": "code",
      "source": [
        "print(\"First five records of dataset are:\\n\", liver.head())"
      ],
      "metadata": {
        "colab": {
          "base_uri": "https://localhost:8080/"
        },
        "id": "GLxiX2W9uZoP",
        "outputId": "0472d57c-b85d-41b8-e7d4-dee0e9075cd1"
      },
      "execution_count": 14,
      "outputs": [
        {
          "output_type": "stream",
          "name": "stdout",
          "text": [
            "First five records of dataset are:\n",
            "    Age  Gender  Total_Bilirubin  Direct_Bilirubin  Alkaline_Phosphotase  \\\n",
            "0   65  Female              0.7               0.1                   187   \n",
            "1   62    Male             10.9               5.5                   699   \n",
            "2   62    Male              7.3               4.1                   490   \n",
            "3   58    Male              1.0               0.4                   182   \n",
            "4   72    Male              3.9               2.0                   195   \n",
            "\n",
            "   Alamine_Aminotransferase  Aspartate_Aminotransferase  Total_Protiens  \\\n",
            "0                        16                          18             6.8   \n",
            "1                        64                         100             7.5   \n",
            "2                        60                          68             7.0   \n",
            "3                        14                          20             6.8   \n",
            "4                        27                          59             7.3   \n",
            "\n",
            "   Albumin  Albumin_and_Globulin_Ratio  Dataset  \n",
            "0      3.3                        0.90        1  \n",
            "1      3.2                        0.74        1  \n",
            "2      3.3                        0.89        1  \n",
            "3      3.4                        1.00        1  \n",
            "4      2.4                        0.40        1  \n"
          ]
        }
      ]
    },
    {
      "cell_type": "code",
      "source": [
        "print(\"First two records of dataset are:\\n\", liver.head(2))"
      ],
      "metadata": {
        "colab": {
          "base_uri": "https://localhost:8080/"
        },
        "id": "C-ZR-h01ujyJ",
        "outputId": "f31884e1-d4f4-41e8-da5d-2dc99129e991"
      },
      "execution_count": 15,
      "outputs": [
        {
          "output_type": "stream",
          "name": "stdout",
          "text": [
            "First two records of dataset are:\n",
            "    Age  Gender  Total_Bilirubin  Direct_Bilirubin  Alkaline_Phosphotase  \\\n",
            "0   65  Female              0.7               0.1                   187   \n",
            "1   62    Male             10.9               5.5                   699   \n",
            "\n",
            "   Alamine_Aminotransferase  Aspartate_Aminotransferase  Total_Protiens  \\\n",
            "0                        16                          18             6.8   \n",
            "1                        64                         100             7.5   \n",
            "\n",
            "   Albumin  Albumin_and_Globulin_Ratio  Dataset  \n",
            "0      3.3                        0.90        1  \n",
            "1      3.2                        0.74        1  \n"
          ]
        }
      ]
    },
    {
      "cell_type": "code",
      "source": [
        "print(\"First 3 records of TB and DB: \\n\", liver[['Total_Bilirubin','Direct_Bilirubin']].head(3))"
      ],
      "metadata": {
        "colab": {
          "base_uri": "https://localhost:8080/"
        },
        "id": "-3li647nusia",
        "outputId": "a1116d74-8eb1-4aa3-fe33-935789f14084"
      },
      "execution_count": 17,
      "outputs": [
        {
          "output_type": "stream",
          "name": "stdout",
          "text": [
            "First 3 records of TB and DB: \n",
            "    Total_Bilirubin  Direct_Bilirubin\n",
            "0              0.7               0.1\n",
            "1             10.9               5.5\n",
            "2              7.3               4.1\n"
          ]
        }
      ]
    },
    {
      "cell_type": "code",
      "source": [
        "print(\"Last three records of dataset is:\\n\", liver.tail(3))"
      ],
      "metadata": {
        "colab": {
          "base_uri": "https://localhost:8080/"
        },
        "id": "2Au6m9pGvHtt",
        "outputId": "abbad9f9-ebb2-41a2-9dba-e62a5b21eef5"
      },
      "execution_count": 18,
      "outputs": [
        {
          "output_type": "stream",
          "name": "stdout",
          "text": [
            "Last three records of dataset is:\n",
            "      Age Gender  Total_Bilirubin  Direct_Bilirubin  Alkaline_Phosphotase  \\\n",
            "580   52   Male              0.8               0.2                   245   \n",
            "581   31   Male              1.3               0.5                   184   \n",
            "582   38   Male              1.0               0.3                   216   \n",
            "\n",
            "     Alamine_Aminotransferase  Aspartate_Aminotransferase  Total_Protiens  \\\n",
            "580                        48                          49             6.4   \n",
            "581                        29                          32             6.8   \n",
            "582                        21                          24             7.3   \n",
            "\n",
            "     Albumin  Albumin_and_Globulin_Ratio  Dataset  \n",
            "580      3.2                         1.0        1  \n",
            "581      3.4                         1.0        1  \n",
            "582      4.4                         1.5        2  \n"
          ]
        }
      ]
    },
    {
      "cell_type": "code",
      "source": [
        "print(\"Last 2 records of age and TB: \\n\", liver[['Age','Total_Bilirubin']].tail(2))"
      ],
      "metadata": {
        "colab": {
          "base_uri": "https://localhost:8080/"
        },
        "id": "EEaigrrkvR93",
        "outputId": "0aa63a54-078c-4cd9-cd0f-c8b563bf2bee"
      },
      "execution_count": 19,
      "outputs": [
        {
          "output_type": "stream",
          "name": "stdout",
          "text": [
            "Last 2 records of age and TB: \n",
            "      Age  Total_Bilirubin\n",
            "581   31              1.3\n",
            "582   38              1.0\n"
          ]
        }
      ]
    },
    {
      "cell_type": "code",
      "source": [
        "print(\"Values for Alkphos column are:\\n\", liver['Alkaline_Phosphotase'].values)"
      ],
      "metadata": {
        "colab": {
          "base_uri": "https://localhost:8080/"
        },
        "id": "W-4KqkSPvkY3",
        "outputId": "2c020fd8-0320-4c69-e674-bd7b9568db22"
      },
      "execution_count": 20,
      "outputs": [
        {
          "output_type": "stream",
          "name": "stdout",
          "text": [
            "Values for Alkphos column are:\n",
            " [ 187  699  490  182  195  208  154  202  202  290  210  260  310  214\n",
            "  145  183  342  165  293  293  610  482  542  231  194  289  289  240\n",
            "  128  188  190  156  187  410  410  482  145  374  263  275  168  160\n",
            "  630  415  208  275  150  230  176  206  170  161  253  198  272  272\n",
            "  198  175  367  145  158  158  158  208  259  470  195  215  239  215\n",
            "  186  188  205  171  145  162  518 1620  146  670  915   75  148  258\n",
            "  237  269  320  298  538  238  214  308  298  204  168  282  298  215\n",
            "  265  312  161  243  224  225  170  145  145  158  158  486  188  257\n",
            "  179  272  661 1580 1630  194  280  298  300  290  188  178  177  201\n",
            "  802  248 1896  263  512  237  199  238  178 1110  310  282  282  380\n",
            "  186  159  332  332  189  201  168  392  202  286  180  218  182  178\n",
            "  290  298  462  196  196  282  750 1050  599  180  180  282  332  292\n",
            "  962  950  200  298  750  175  175  198  482 1020  562  386  250  218\n",
            "  170  171  201  298  750  191  614  218  314  257  272  206  209 1124\n",
            "  664  142  169 1420  218  218  145  142  135  163  285  350  220  189\n",
            "  190  219  160  401  180  100  116  159  289  125  147  192  265  175\n",
            "  400  120  173  186  202  290  196  282  157 2110  285  360  300  158\n",
            "  190  196  165  230  205  316  218  290  272  190  202  498  480  680\n",
            "  258  180  152  859  901  335  182  285  245  505  228  185  247  348\n",
            "  195  140  358  110  235  460  380  262  196  180  190  190  209  144\n",
            "  123  192  188  316  300  575  192  155  239  315  250  174  245  191\n",
            "  340  202  234  159  190  195  180  280  430  206  155  195  588  174\n",
            "  165  527  175  574  106  158  195  179  182  198  216  310   63  198\n",
            "  205  302  171  158  358  174  192  211  157  210  258  152  350  182\n",
            "  458  375  405  215  206  650  198  198  195  230  115  216  358  158\n",
            "  145  195  144  621  150  178  256  205  176  146  218  182  215  165\n",
            "  183  176  418  271  182  130  558  135  326  140  145  206  168  202\n",
            "  192  185  331  188  172  159  490  152  105  160  160  102  148  162\n",
            "  149  580  310  140  175  152  208  205  162   92  162  199  198  215\n",
            "  180  719  554  555  215  509  190  208  260  690  862  592  450 1350\n",
            " 1350  163  246  178  240  100  166  170  194 1750  182  236  165  201\n",
            "  194  206  212  157  162  168  198  292  298  152  163  279  181 1550\n",
            "  142  173  282  279 1100  224  159  186  189  192  140  686  215  309\n",
            "  110  130  164  270  137   90  190  165  167  185  197  154  226  310\n",
            "  310  220  196  186  352  282   92  182  103  850  195  276  171  146\n",
            "  193  180  805  265  185  165  189  198  151  349  365  305  127  238\n",
            "  218  219  239  194  450  254  205  320  195  215  230  189  168  215\n",
            "  210  108  224  230  185  137  156  210  268  298  315  214  138  285\n",
            "  162  298  230  466  227  395   97  406  114  198  173  204  350  153\n",
            "  188  380  214  768  172  160  196  232  220  290  180  189  275  390\n",
            "  356  315  388  298  165  143  191  251  200  268  236  215  134  612\n",
            "  515  560  289  190  500   98  245  184  216]\n"
          ]
        }
      ]
    },
    {
      "cell_type": "code",
      "source": [
        "print(\"Number of records for gender:\\n\", liver['Gender'].value_counts())"
      ],
      "metadata": {
        "colab": {
          "base_uri": "https://localhost:8080/"
        },
        "id": "IKo7MwnLv7gA",
        "outputId": "82e60583-4b1d-4069-cd94-8e6498c8da1c"
      },
      "execution_count": 21,
      "outputs": [
        {
          "output_type": "stream",
          "name": "stdout",
          "text": [
            "Number of records for gender:\n",
            " Gender\n",
            "Male      441\n",
            "Female    142\n",
            "Name: count, dtype: int64\n"
          ]
        }
      ]
    },
    {
      "cell_type": "code",
      "source": [
        "print(\"Number of records based on gender in percentage form:\\n\", liver['Gender'].value_counts()/len(liver['Gender']))"
      ],
      "metadata": {
        "colab": {
          "base_uri": "https://localhost:8080/"
        },
        "id": "kHc6hpNAwHlF",
        "outputId": "be07be24-8d99-4260-f943-d1f1764cf14b"
      },
      "execution_count": 22,
      "outputs": [
        {
          "output_type": "stream",
          "name": "stdout",
          "text": [
            "Number of records based on gender in percentage form:\n",
            " Gender\n",
            "Male      0.756432\n",
            "Female    0.243568\n",
            "Name: count, dtype: float64\n"
          ]
        }
      ]
    },
    {
      "cell_type": "code",
      "source": [
        "print(\"Describing the details of TB column:\\n\", liver['Total_Bilirubin'].describe())"
      ],
      "metadata": {
        "colab": {
          "base_uri": "https://localhost:8080/"
        },
        "id": "t-OgPoqLwg5x",
        "outputId": "3f0a25b9-9f05-41aa-8e42-cdef6d0485a1"
      },
      "execution_count": 23,
      "outputs": [
        {
          "output_type": "stream",
          "name": "stdout",
          "text": [
            "Describing the details of TB column:\n",
            " count    583.000000\n",
            "mean       3.298799\n",
            "std        6.209522\n",
            "min        0.400000\n",
            "25%        0.800000\n",
            "50%        1.000000\n",
            "75%        2.600000\n",
            "max       75.000000\n",
            "Name: Total_Bilirubin, dtype: float64\n"
          ]
        }
      ]
    },
    {
      "cell_type": "code",
      "source": [
        "agelist = liver['Age'].tolist()\n",
        "print(\"The list corresponding to age is:\\n\", agelist)"
      ],
      "metadata": {
        "colab": {
          "base_uri": "https://localhost:8080/"
        },
        "id": "jP3hER9_xA5S",
        "outputId": "3618169d-ad7f-4fd2-ff5a-4d1b10433996"
      },
      "execution_count": 24,
      "outputs": [
        {
          "output_type": "stream",
          "name": "stdout",
          "text": [
            "The list corresponding to age is:\n",
            " [65, 62, 62, 58, 72, 46, 26, 29, 17, 55, 57, 72, 64, 74, 61, 25, 38, 33, 40, 40, 51, 51, 62, 40, 63, 34, 34, 34, 20, 84, 57, 52, 57, 38, 38, 30, 17, 46, 48, 47, 45, 62, 42, 50, 85, 35, 21, 40, 32, 55, 45, 34, 38, 38, 42, 42, 33, 48, 51, 64, 31, 58, 58, 57, 57, 57, 54, 37, 66, 60, 19, 75, 75, 52, 68, 29, 31, 68, 70, 58, 58, 29, 49, 33, 32, 14, 13, 58, 18, 60, 60, 60, 60, 60, 60, 75, 39, 39, 18, 18, 27, 27, 17, 55, 63, 36, 36, 36, 36, 36, 24, 48, 27, 74, 50, 50, 48, 32, 32, 32, 32, 32, 58, 64, 28, 60, 48, 64, 58, 45, 45, 70, 18, 53, 18, 66, 46, 18, 18, 15, 60, 66, 30, 30, 45, 65, 66, 65, 50, 60, 56, 50, 46, 52, 34, 34, 32, 72, 72, 50, 60, 60, 60, 39, 39, 48, 55, 47, 60, 60, 72, 44, 55, 31, 31, 31, 55, 75, 75, 75, 75, 75, 65, 40, 64, 38, 60, 60, 60, 48, 60, 60, 60, 49, 49, 60, 60, 26, 41, 7, 49, 49, 38, 21, 21, 45, 40, 40, 70, 45, 28, 42, 22, 8, 38, 66, 55, 49, 6, 37, 37, 47, 47, 50, 70, 26, 26, 68, 65, 46, 61, 61, 50, 33, 40, 60, 22, 35, 35, 40, 48, 51, 29, 28, 54, 54, 55, 55, 40, 33, 33, 33, 65, 35, 38, 38, 50, 44, 36, 42, 42, 33, 18, 38, 38, 4, 62, 43, 40, 26, 37, 4, 21, 30, 33, 26, 35, 60, 45, 48, 58, 50, 50, 18, 18, 13, 34, 43, 50, 57, 45, 60, 45, 23, 22, 22, 74, 25, 31, 24, 58, 51, 50, 50, 55, 54, 48, 30, 45, 48, 51, 54, 27, 30, 26, 22, 44, 35, 38, 14, 30, 30, 36, 12, 60, 42, 36, 24, 43, 21, 26, 26, 26, 36, 13, 13, 75, 75, 75, 75, 75, 36, 35, 70, 37, 60, 46, 38, 70, 49, 37, 37, 26, 48, 48, 19, 33, 33, 37, 69, 24, 65, 55, 42, 21, 40, 16, 60, 42, 58, 54, 33, 48, 25, 56, 47, 33, 20, 50, 72, 50, 39, 58, 60, 34, 50, 38, 51, 46, 72, 72, 75, 41, 41, 48, 45, 74, 78, 38, 27, 66, 50, 42, 65, 22, 31, 45, 12, 48, 48, 18, 23, 65, 48, 65, 70, 70, 11, 50, 55, 55, 26, 41, 53, 32, 58, 45, 65, 52, 73, 53, 47, 29, 41, 30, 17, 23, 35, 65, 42, 49, 42, 42, 42, 61, 17, 54, 45, 48, 48, 65, 35, 58, 46, 28, 21, 32, 61, 26, 65, 22, 28, 38, 25, 45, 45, 28, 28, 66, 66, 66, 49, 42, 42, 35, 38, 38, 55, 33, 33, 7, 45, 45, 30, 62, 22, 42, 32, 60, 65, 53, 27, 35, 65, 25, 32, 24, 67, 68, 55, 70, 36, 42, 53, 32, 32, 56, 50, 46, 46, 37, 45, 56, 69, 49, 49, 60, 28, 45, 35, 62, 55, 46, 50, 29, 53, 46, 40, 45, 55, 22, 40, 62, 46, 39, 60, 46, 10, 52, 65, 42, 42, 62, 40, 54, 45, 45, 50, 42, 40, 46, 29, 45, 46, 73, 55, 51, 51, 51, 26, 66, 66, 66, 64, 38, 43, 50, 52, 20, 16, 16, 90, 32, 32, 32, 32, 32, 32, 60, 40, 52, 31, 38]\n"
          ]
        }
      ]
    },
    {
      "cell_type": "code",
      "source": [
        "print(\"Mean of age is:\", liver['Age'].mean())"
      ],
      "metadata": {
        "colab": {
          "base_uri": "https://localhost:8080/"
        },
        "id": "CLkl-HqdxUra",
        "outputId": "f1edeef3-189f-44de-b76c-115e69bbea19"
      },
      "execution_count": 25,
      "outputs": [
        {
          "output_type": "stream",
          "name": "stdout",
          "text": [
            "Mean of age is: 44.74614065180103\n"
          ]
        }
      ]
    },
    {
      "cell_type": "code",
      "source": [
        "print(\"Median of age is:\", liver['Age'].median())"
      ],
      "metadata": {
        "colab": {
          "base_uri": "https://localhost:8080/"
        },
        "id": "cnsu245gxnoP",
        "outputId": "dffee758-b346-427d-9be6-634e9f2111b3"
      },
      "execution_count": 26,
      "outputs": [
        {
          "output_type": "stream",
          "name": "stdout",
          "text": [
            "Median of age is: 45.0\n"
          ]
        }
      ]
    },
    {
      "cell_type": "code",
      "source": [
        "print(\"Maximum alkpos is:\", liver['Alkaline_Phosphotase'].max())"
      ],
      "metadata": {
        "colab": {
          "base_uri": "https://localhost:8080/"
        },
        "id": "iuGCYZgEx0oe",
        "outputId": "b525459e-c40d-4019-8760-88b76c3b9e41"
      },
      "execution_count": 27,
      "outputs": [
        {
          "output_type": "stream",
          "name": "stdout",
          "text": [
            "Maximum alkpos is: 2110\n"
          ]
        }
      ]
    },
    {
      "cell_type": "code",
      "source": [
        "print(\"Minimum alkpos is:\", liver['Alkaline_Phosphotase'].min())"
      ],
      "metadata": {
        "colab": {
          "base_uri": "https://localhost:8080/"
        },
        "id": "DSvFZoNix_0E",
        "outputId": "9ef7c2cb-823b-41d1-b162-669bd45e214b"
      },
      "execution_count": 28,
      "outputs": [
        {
          "output_type": "stream",
          "name": "stdout",
          "text": [
            "Minimum alkpos is: 63\n"
          ]
        }
      ]
    },
    {
      "cell_type": "code",
      "source": [
        "print(\"Sum of TB is:\", liver['Total_Bilirubin'].sum)"
      ],
      "metadata": {
        "colab": {
          "base_uri": "https://localhost:8080/"
        },
        "id": "miUDEKwMyF8N",
        "outputId": "c9d469ad-60bd-49ce-fe61-f00dd146b8b8"
      },
      "execution_count": 29,
      "outputs": [
        {
          "output_type": "stream",
          "name": "stdout",
          "text": [
            "Sum of TB is: <bound method Series.sum of 0       0.7\n",
            "1      10.9\n",
            "2       7.3\n",
            "3       1.0\n",
            "4       3.9\n",
            "       ... \n",
            "578     0.5\n",
            "579     0.6\n",
            "580     0.8\n",
            "581     1.3\n",
            "582     1.0\n",
            "Name: Total_Bilirubin, Length: 583, dtype: float64>\n"
          ]
        }
      ]
    },
    {
      "cell_type": "code",
      "source": [
        "print(\"Product of TB is:\", liver['Total_Bilirubin'].product)"
      ],
      "metadata": {
        "colab": {
          "base_uri": "https://localhost:8080/"
        },
        "id": "be1ObWWDyPVy",
        "outputId": "2140f7d5-ae83-4297-912a-253769bcbe09"
      },
      "execution_count": 30,
      "outputs": [
        {
          "output_type": "stream",
          "name": "stdout",
          "text": [
            "Product of TB is: <bound method Series.prod of 0       0.7\n",
            "1      10.9\n",
            "2       7.3\n",
            "3       1.0\n",
            "4       3.9\n",
            "       ... \n",
            "578     0.5\n",
            "579     0.6\n",
            "580     0.8\n",
            "581     1.3\n",
            "582     1.0\n",
            "Name: Total_Bilirubin, Length: 583, dtype: float64>\n"
          ]
        }
      ]
    },
    {
      "cell_type": "code",
      "source": [
        "print(\"Three smallest values of DB:\\n\", liver['Direct_Bilirubin'].nsmallest().head(3))"
      ],
      "metadata": {
        "colab": {
          "base_uri": "https://localhost:8080/"
        },
        "id": "0Mb4mEOlyUlz",
        "outputId": "205f8269-edc5-47ae-a652-456a25d49a2b"
      },
      "execution_count": 31,
      "outputs": [
        {
          "output_type": "stream",
          "name": "stdout",
          "text": [
            "Three smallest values of DB:\n",
            " 0     0.1\n",
            "10    0.1\n",
            "15    0.1\n",
            "Name: Direct_Bilirubin, dtype: float64\n"
          ]
        }
      ]
    },
    {
      "cell_type": "code",
      "source": [
        "print(\"Four largest values of DB:\\n\", liver['Direct_Bilirubin'].nlargest().tail(4))"
      ],
      "metadata": {
        "colab": {
          "base_uri": "https://localhost:8080/"
        },
        "id": "KRJV4ycPyjLU",
        "outputId": "61eacafd-7295-4799-bdf6-2a19af756691"
      },
      "execution_count": 32,
      "outputs": [
        {
          "output_type": "stream",
          "name": "stdout",
          "text": [
            "Four largest values of DB:\n",
            " 531    18.3\n",
            "504    17.1\n",
            "259    14.2\n",
            "505    14.1\n",
            "Name: Direct_Bilirubin, dtype: float64\n"
          ]
        }
      ]
    },
    {
      "cell_type": "code",
      "source": [
        "print(\"Top two records based on descending order for TP are:\\n\", liver.sort_values(by='Total_Protiens', ascending=False).head(2))"
      ],
      "metadata": {
        "colab": {
          "base_uri": "https://localhost:8080/"
        },
        "id": "MPuglQ9jzBcF",
        "outputId": "0066be9d-c4da-474d-d523-7e2e6f680c99"
      },
      "execution_count": 34,
      "outputs": [
        {
          "output_type": "stream",
          "name": "stdout",
          "text": [
            "Top two records based on descending order for TP are:\n",
            "      Age Gender  Total_Bilirubin  Direct_Bilirubin  Alkaline_Phosphotase  \\\n",
            "273   30   Male              0.7               0.2                   262   \n",
            "270   37   Male              0.7               0.2                   235   \n",
            "\n",
            "     Alamine_Aminotransferase  Aspartate_Aminotransferase  Total_Protiens  \\\n",
            "273                        15                          18             9.6   \n",
            "270                        96                          54             9.5   \n",
            "\n",
            "     Albumin  Albumin_and_Globulin_Ratio  Dataset  \n",
            "273      4.7                         1.2        1  \n",
            "270      4.9                         1.0        1  \n"
          ]
        }
      ]
    },
    {
      "cell_type": "code",
      "source": [
        "print(\"Bottom two records based on descending order for TP are:\\n\", liver.sort_values(by='Total_Protiens', ascending=False).tail(2))"
      ],
      "metadata": {
        "colab": {
          "base_uri": "https://localhost:8080/"
        },
        "id": "r-amcQ9Iz1f3",
        "outputId": "3414e747-06e6-4769-eab4-8f8716a3cca5"
      },
      "execution_count": 35,
      "outputs": [
        {
          "output_type": "stream",
          "name": "stdout",
          "text": [
            "Bottom two records based on descending order for TP are:\n",
            "      Age Gender  Total_Bilirubin  Direct_Bilirubin  Alkaline_Phosphotase  \\\n",
            "269   26   Male              0.6               0.1                   110   \n",
            "180   75   Male              2.8               1.3                   250   \n",
            "\n",
            "     Alamine_Aminotransferase  Aspartate_Aminotransferase  Total_Protiens  \\\n",
            "269                        15                          20             2.8   \n",
            "180                        23                          29             2.7   \n",
            "\n",
            "     Albumin  Albumin_and_Globulin_Ratio  Dataset  \n",
            "269      1.6                         1.3        1  \n",
            "180      0.9                         0.5        1  \n"
          ]
        }
      ]
    },
    {
      "cell_type": "code",
      "source": [
        "print(\"Top two records based on ascending order for TP are:\\n\", liver.sort_values(by='Total_Protiens', ascending=True).head(2))"
      ],
      "metadata": {
        "colab": {
          "base_uri": "https://localhost:8080/"
        },
        "id": "8f8kvgLs0GE7",
        "outputId": "085c0b4a-59c3-490d-a44a-e58269cabf2f"
      },
      "execution_count": 36,
      "outputs": [
        {
          "output_type": "stream",
          "name": "stdout",
          "text": [
            "Top two records based on ascending order for TP are:\n",
            "      Age Gender  Total_Bilirubin  Direct_Bilirubin  Alkaline_Phosphotase  \\\n",
            "180   75   Male              2.8               1.3                   250   \n",
            "269   26   Male              0.6               0.1                   110   \n",
            "\n",
            "     Alamine_Aminotransferase  Aspartate_Aminotransferase  Total_Protiens  \\\n",
            "180                        23                          29             2.7   \n",
            "269                        15                          20             2.8   \n",
            "\n",
            "     Albumin  Albumin_and_Globulin_Ratio  Dataset  \n",
            "180      0.9                         0.5        1  \n",
            "269      1.6                         1.3        1  \n"
          ]
        }
      ]
    },
    {
      "cell_type": "code",
      "source": [
        "print(\"Bottom two records based on ascending order for TP are:\\n\", liver.sort_values(by='Total_Protiens', ascending=True).tail(2))"
      ],
      "metadata": {
        "colab": {
          "base_uri": "https://localhost:8080/"
        },
        "id": "gC1uw0yW0Q9W",
        "outputId": "b0393d34-0594-4c5c-b8ff-c3f2e93a94b8"
      },
      "execution_count": 37,
      "outputs": [
        {
          "output_type": "stream",
          "name": "stdout",
          "text": [
            "Bottom two records based on ascending order for TP are:\n",
            "      Age Gender  Total_Bilirubin  Direct_Bilirubin  Alkaline_Phosphotase  \\\n",
            "270   37   Male              0.7               0.2                   235   \n",
            "273   30   Male              0.7               0.2                   262   \n",
            "\n",
            "     Alamine_Aminotransferase  Aspartate_Aminotransferase  Total_Protiens  \\\n",
            "270                        96                          54             9.5   \n",
            "273                        15                          18             9.6   \n",
            "\n",
            "     Albumin  Albumin_and_Globulin_Ratio  Dataset  \n",
            "270      4.9                         1.0        1  \n",
            "273      4.7                         1.2        1  \n"
          ]
        }
      ]
    },
    {
      "cell_type": "code",
      "source": [],
      "metadata": {
        "id": "WO63cEVO0Zv2"
      },
      "execution_count": null,
      "outputs": []
    }
  ]
}